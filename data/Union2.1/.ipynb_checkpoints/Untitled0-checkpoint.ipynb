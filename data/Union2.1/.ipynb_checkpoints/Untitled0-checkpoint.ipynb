{
 "metadata": {
  "name": "",
  "signature": "sha256:3397b9414c228654badb9b9b52535318cf700ad1da1e7b1b9ab4c0533a0a2e62"
 },
 "nbformat": 3,
 "nbformat_minor": 0,
 "worksheets": []
}